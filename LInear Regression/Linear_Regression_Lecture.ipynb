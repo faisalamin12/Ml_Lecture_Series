
{
 "cells": [
  {
   "cell_type": "markdown",
   "metadata": {},
   "source": [
    "# Linear Regression - Complete Lecture (Theory + Practical)\n",
    "### 📘 Introduction to Linear Regression\n",
    "Linear Regression is a statistical technique in Machine Learning used for predictive modeling.\n",
    "It models the relationship between a dependent variable (target) and one or more independent variables (features) using a straight line.\n",
    "\n",
    "The equation for simple linear regression is:\n",
    "`y = β₀ + β₁x + ε`\n",
    "- **y** is the dependent variable\n",
    "- **x** is the independent variable\n",
    "- **β₀** is the intercept\n",
    "- **β₁** is the slope/coefficient\n",
    "- **ε** is the error term\n",
    "\n",
    "In practice, we use training data to learn the best values of β₀ and β₁ that minimize the error between actual and predicted y."
   ]
  },
  {
   "cell_type": "code",
   "execution_count": null,
   "metadata": {},
   "outputs": [],
   "source": [
    "# Step 1: Import Required Libraries\n",
    "import numpy as np\n",
    "import pandas as pd\n",
    "import matplotlib.pyplot as plt\n",
    "import seaborn as sns\n",
    "\n",
    "from sklearn.linear_model import LinearRegression\n",
    "from sklearn.model_selection import train_test_split\n",
    "from sklearn.metrics import mean_squared_error, r2_score\n",
    "from sklearn.datasets import load_diabetes"
   ]
  },
  {
   "cell_type": "code",
   "execution_count": null,
   "metadata": {},
   "outputs": [],
   "source": [
    "# Step 2: Load and Explore Dataset\n",
    "data = load_diabetes()\n",
    "df = pd.DataFrame(data.data, columns=data.feature_names)\n",
    "df['target'] = data.target\n",
    "df.head()"
   ]
  },
  {
   "cell_type": "code",
   "execution_count": null,
   "metadata": {},
   "outputs": [],
   "source": [
    "# Step 3: Simple Linear Regression (Single Feature)\n",
    "X = df[['bmi']]\n",
    "y = df['target']\n",
    "\n",
    "X_train, X_test, y_train, y_test = train_test_split(X, y, test_size=0.2, random_state=42)\n",
    "model = LinearRegression()\n",
    "model.fit(X_train, y_train)\n",
    "y_pred = model.predict(X_test)\n",
    "model.intercept_, model.coef_"
   ]
  },
  {
   "cell_type": "code",
   "execution_count": null,
   "metadata": {},
   "outputs": [],
   "source": [
    "# Step 4: Visualize Regression Line\n",
    "plt.figure(figsize=(8, 6))\n",
    "plt.scatter(X_test, y_test, color='blue', label='Actual values')\n",
    "plt.plot(X_test, y_pred, color='red', linewidth=2, label='Regression Line')\n",
    "plt.xlabel('BMI')\n",
    "plt.ylabel('Disease Progression')\n",
    "plt.title('Simple Linear Regression using BMI')\n",
    "plt.legend()\n",
    "plt.show()"
   ]
  },
  {
   "cell_type": "code",
   "execution_count": null,
   "metadata": {},
   "outputs": [],
   "source": [
    "# Step 5: Evaluate the Model\n",
    "mse = mean_squared_error(y_test, y_pred)\n",
    "rmse = np.sqrt(mse)\n",
    "r2 = r2_score(y_test, y_pred)\n",
    "mse, rmse, r2"
   ]
  },
  {
   "cell_type": "code",
   "execution_count": null,
   "metadata": {},
   "outputs": [],
   "source": [
    "# Step 6: Multiple Linear Regression (All Features)\n",
    "X_multi = df.drop('target', axis=1)\n",
    "y_multi = df['target']\n",
    "X_train_m, X_test_m, y_train_m, y_test_m = train_test_split(X_multi, y_multi, test_size=0.2, random_state=42)\n",
    "model_multi = LinearRegression()\n",
    "model_multi.fit(X_train_m, y_train_m)\n",
    "y_pred_m = model_multi.predict(X_test_m)\n",
    "mean_squared_error(y_test_m, y_pred_m), np.sqrt(mean_squared_error(y_test_m, y_pred_m)), r2_score(y_test_m, y_pred_m)"
   ]
  },
  {
   "cell_type": "code",
   "execution_count": null,
   "metadata": {},
   "outputs": [],
   "source": [
    "# Step 7: Coefficients and Feature Importance\n",
    "coeff_df = pd.DataFrame(model_multi.coef_, X_multi.columns, columns=['Coefficient'])\n",
    "coeff_df.sort_values(by='Coefficient', ascending=False)"
   ]
  },
  {
   "cell_type": "code",
   "execution_count": null,
   "metadata": {},
   "outputs": [],
   "source": [
    "# Step 8: Residual Analysis\n",
    "residuals = y_test - y_pred\n",
    "plt.figure(figsize=(8, 5))\n",
    "sns.histplot(residuals, kde=True, bins=30)\n",
    "plt.title('Distribution of Residuals')\n",
    "plt.xlabel('Residuals')\n",
    "plt.ylabel('Frequency')\n",
    "plt.show()"
   ]
  },
  {
   "cell_type": "code",
   "execution_count": null,
   "metadata": {},
   "outputs": [],
   "source": [
    "# Step 9: Actual vs Predicted Values Plot\n",
    "plt.figure(figsize=(8,6))\n",
    "plt.scatter(y_test, y_pred, color='green')\n",
    "plt.xlabel('Actual Target Values')\n",
    "plt.ylabel('Predicted Values')\n",
    "plt.title('Actual vs Predicted Values')\n",
    "plt.plot([y_test.min(), y_test.max()], [y_test.min(), y_test.max()], 'k--', lw=2)\n",
    "plt.show()"
   ]
  },
  {
   "cell_type": "markdown",
   "metadata": {},
   "source": [
    "## 🏁 Summary\n",
    "- Theoretical understanding of Linear Regression\n",
    "- Simple and Multiple Linear Regression\n",
    "- Visualization and evaluation\n",
    "- Coefficients and residual analysis\n",
    "- Practical applications using a real-world dataset\n",
    "\n",
    "**Assignment:** Use another dataset (e.g., Housing Prices) and replicate the above process for hands-on learning."
   ]
  }
 ],
 "metadata": {
  "kernelspec": {
   "display_name": "Python 3",
   "language": "python",
   "name": "python3"
  },
  "language_info": {
   "name": "python",
   "version": "3.8"
  }
 },
 "nbformat": 4,
 "nbformat_minor": 2
}
