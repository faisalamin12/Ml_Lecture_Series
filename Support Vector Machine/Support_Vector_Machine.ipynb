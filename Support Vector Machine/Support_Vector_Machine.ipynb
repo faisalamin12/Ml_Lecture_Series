{
  "cells": [
    {
      "cell_type": "markdown",
      "id": "5c220846",
      "metadata": {
        "id": "5c220846"
      },
      "source": [
        "# Support Vector Machines (SVM)"
      ]
    },
    {
      "cell_type": "markdown",
      "id": "69e4ea70",
      "metadata": {
        "id": "69e4ea70"
      },
      "source": [
        "## 🎯 Learning Outcomes\n",
        "By the end of this lecture, you should be able to:\n",
        "1. Understand the concept of hyperplanes and margins in SVM.\n",
        "2. Distinguish between linear and non-linear SVMs.\n",
        "3. Apply kernels in SVM to handle non-linearly separable data.\n",
        "4. Implement SVM using `scikit-learn` on real datasets.\n",
        "5. Tune hyperparameters using `GridSearchCV`.\n",
        "6. Interpret results using classification metrics and plots."
      ]
    },
    {
      "cell_type": "markdown",
      "id": "bff4913d",
      "metadata": {
        "id": "bff4913d"
      },
      "source": [
        "---"
      ]
    },
    {
      "cell_type": "markdown",
      "id": "6cc922c4",
      "metadata": {
        "id": "6cc922c4"
      },
      "source": [
        "## 1. Theoretical Background"
      ]
    },
    {
      "cell_type": "markdown",
      "id": "2687f7dc",
      "metadata": {
        "id": "2687f7dc"
      },
      "source": [
        "### 1.1 What is an SVM?\n",
        "Support Vector Machine (SVM) is a supervised learning algorithm used primarily for **classification** tasks (also applicable to regression).\n",
        "It finds the **optimal hyperplane** that separates classes with the **maximum margin**."
      ]
    },
    {
      "cell_type": "markdown",
      "id": "96bd89d4",
      "metadata": {
        "id": "96bd89d4"
      },
      "source": [
        "### 1.2 Key Concepts\n",
        "- **Hyperplane**: A decision boundary that separates classes.\n",
        "- **Margin**: Distance between the hyperplane and the nearest data point (support vector).\n",
        "- **Support Vectors**: Points closest to the decision boundary.\n",
        "- **Kernel Trick**: A technique to project data into a higher-dimensional space for non-linear separation."
      ]
    },
    {
      "cell_type": "markdown",
      "id": "f258809d",
      "metadata": {
        "id": "f258809d"
      },
      "source": [
        "### 1.3 Types of Kernels\n",
        "- **Linear**: Straight-line separation.\n",
        "- **Polynomial**: Curved boundary with polynomial transformation.\n",
        "- **RBF (Gaussian)**: Maps data into infinite-dimensional space.\n",
        "- **Sigmoid**: Similar to neural networks."
      ]
    },
    {
      "cell_type": "markdown",
      "id": "5dc49df5",
      "metadata": {
        "id": "5dc49df5"
      },
      "source": [
        "---"
      ]
    },
    {
      "cell_type": "markdown",
      "id": "3b8ac02c",
      "metadata": {
        "id": "3b8ac02c"
      },
      "source": [
        "## 2. Practical Implementation with Detailed Explanation\n"
      ]
    },
    {
      "cell_type": "markdown",
      "id": "0023f810",
      "metadata": {
        "id": "0023f810"
      },
      "source": [
        "### 🔧 Step 1: Import Libraries"
      ]
    },
    {
      "cell_type": "code",
      "execution_count": null,
      "id": "23976d8b",
      "metadata": {
        "id": "23976d8b"
      },
      "outputs": [],
      "source": [
        "import numpy as np\n",
        "import pandas as pd\n",
        "import matplotlib.pyplot as plt\n",
        "import seaborn as sns\n",
        "from sklearn.datasets import load_breast_cancer\n",
        "from sklearn.model_selection import train_test_split, GridSearchCV\n",
        "from sklearn.preprocessing import StandardScaler\n",
        "from sklearn.svm import SVC\n",
        "from sklearn.metrics import classification_report, confusion_matrix, accuracy_score, ConfusionMatrixDisplay"
      ]
    },
    {
      "cell_type": "markdown",
      "id": "b76ebf94",
      "metadata": {
        "id": "b76ebf94"
      },
      "source": [
        "### 📊 Step 2: Load and Explore Dataset"
      ]
    },
    {
      "cell_type": "code",
      "execution_count": null,
      "id": "2dfdc673",
      "metadata": {
        "id": "2dfdc673"
      },
      "outputs": [],
      "source": [
        "data = load_breast_cancer()\n",
        "X = pd.DataFrame(data.data, columns=data.feature_names)\n",
        "y = pd.Series(data.target)\n",
        "\n",
        "print(\"Feature shape:\", X.shape)\n",
        "print(\"Class distribution:\")\n",
        "print(y.value_counts())"
      ]
    },
    {
      "cell_type": "markdown",
      "id": "34014137",
      "metadata": {
        "id": "34014137"
      },
      "source": [
        "### ⚙️ Step 3: Train-Test Split"
      ]
    },
    {
      "cell_type": "code",
      "execution_count": null,
      "id": "2b85e063",
      "metadata": {
        "id": "2b85e063"
      },
      "outputs": [],
      "source": [
        "X_train, X_test, y_train, y_test = train_test_split(\n",
        "    X, y, test_size=0.3, random_state=42, stratify=y\n",
        ")"
      ]
    },
    {
      "cell_type": "markdown",
      "id": "3f5831f2",
      "metadata": {
        "id": "3f5831f2"
      },
      "source": [
        "### 📏 Step 4: Feature Scaling"
      ]
    },
    {
      "cell_type": "code",
      "execution_count": null,
      "id": "52d532c9",
      "metadata": {
        "id": "52d532c9"
      },
      "outputs": [],
      "source": [
        "scaler = StandardScaler()\n",
        "X_train_scaled = scaler.fit_transform(X_train)\n",
        "X_test_scaled = scaler.transform(X_test)"
      ]
    },
    {
      "cell_type": "markdown",
      "id": "e04dc48c",
      "metadata": {
        "id": "e04dc48c"
      },
      "source": [
        "### ✅ Step 5: Train a Linear SVM Model"
      ]
    },
    {
      "cell_type": "code",
      "execution_count": null,
      "id": "1ad6c1a1",
      "metadata": {
        "id": "1ad6c1a1"
      },
      "outputs": [],
      "source": [
        "svm_linear = SVC(kernel='linear', C=1.0)\n",
        "svm_linear.fit(X_train_scaled, y_train)\n",
        "y_pred_linear = svm_linear.predict(X_test_scaled)"
      ]
    },
    {
      "cell_type": "markdown",
      "id": "8ebb9353",
      "metadata": {
        "id": "8ebb9353"
      },
      "source": [
        "### 📈 Step 6: Evaluate Linear SVM"
      ]
    },
    {
      "cell_type": "code",
      "execution_count": null,
      "id": "12479940",
      "metadata": {
        "id": "12479940"
      },
      "outputs": [],
      "source": [
        "print(\"Classification Report:\\n\", classification_report(y_test, y_pred_linear))\n",
        "print(\"Accuracy:\", accuracy_score(y_test, y_pred_linear))\n",
        "ConfusionMatrixDisplay.from_estimator(svm_linear, X_test_scaled, y_test)\n",
        "plt.show()"
      ]
    },
    {
      "cell_type": "markdown",
      "id": "a9143ebd",
      "metadata": {
        "id": "a9143ebd"
      },
      "source": [
        "### 🔄 Step 7: Train an RBF Kernel SVM"
      ]
    },
    {
      "cell_type": "code",
      "execution_count": null,
      "id": "6da6fa44",
      "metadata": {
        "id": "6da6fa44"
      },
      "outputs": [],
      "source": [
        "svm_rbf = SVC(kernel='rbf', C=10, gamma=0.01)\n",
        "svm_rbf.fit(X_train_scaled, y_train)\n",
        "y_pred_rbf = svm_rbf.predict(X_test_scaled)"
      ]
    },
    {
      "cell_type": "markdown",
      "id": "49d996f4",
      "metadata": {
        "id": "49d996f4"
      },
      "source": [
        "### 📊 Step 8: Evaluate RBF Model"
      ]
    },
    {
      "cell_type": "code",
      "execution_count": null,
      "id": "f59481e4",
      "metadata": {
        "id": "f59481e4"
      },
      "outputs": [],
      "source": [
        "print(\"Classification Report:\\n\", classification_report(y_test, y_pred_rbf))\n",
        "print(\"Accuracy:\", accuracy_score(y_test, y_pred_rbf))\n",
        "ConfusionMatrixDisplay.from_estimator(svm_rbf, X_test_scaled, y_test)\n",
        "plt.show()"
      ]
    },
    {
      "cell_type": "markdown",
      "id": "a3990063",
      "metadata": {
        "id": "a3990063"
      },
      "source": [
        "### 🔍 Step 9: Hyperparameter Tuning with GridSearchCV"
      ]
    },
    {
      "cell_type": "code",
      "execution_count": null,
      "id": "65ebc775",
      "metadata": {
        "id": "65ebc775"
      },
      "outputs": [],
      "source": [
        "param_grid = {\n",
        "    'C': [0.1, 1, 10, 100],\n",
        "    'gamma': [1, 0.1, 0.01, 0.001],\n",
        "    'kernel': ['rbf']\n",
        "}\n",
        "\n",
        "grid_search = GridSearchCV(SVC(), param_grid, cv=5, scoring='accuracy')\n",
        "grid_search.fit(X_train_scaled, y_train)\n",
        "print(\"Best Parameters:\", grid_search.best_params_)"
      ]
    },
    {
      "cell_type": "markdown",
      "id": "31ff62a2",
      "metadata": {
        "id": "31ff62a2"
      },
      "source": [
        "### 🧪 Step 10: Evaluate Best Estimator"
      ]
    },
    {
      "cell_type": "code",
      "execution_count": null,
      "id": "f3bed841",
      "metadata": {
        "id": "f3bed841"
      },
      "outputs": [],
      "source": [
        "best_model = grid_search.best_estimator_\n",
        "y_best_pred = best_model.predict(X_test_scaled)\n",
        "print(\"Accuracy:\", accuracy_score(y_test, y_best_pred))\n",
        "ConfusionMatrixDisplay.from_estimator(best_model, X_test_scaled, y_test)\n",
        "plt.show()"
      ]
    },
    {
      "cell_type": "markdown",
      "id": "42e4d05c",
      "metadata": {
        "id": "42e4d05c"
      },
      "source": [
        "## 📚 Assignment\n",
        "\n",
        "Use this dataset: [Heart Disease UCI](https://www.kaggle.com/datasets/cherngs/heart-disease-cleveland-uci)\n",
        "\n",
        "Tasks:\n",
        "- EDA and preprocessing\n",
        "- Train SVM (linear & RBF)\n",
        "- Use `GridSearchCV`\n",
        "- Report: Accuracy, confusion matrix, ROC-AUC, F1-score\n"
      ]
    },
    {
      "cell_type": "markdown",
      "id": "249302de",
      "metadata": {
        "id": "249302de"
      },
      "source": [
        "## 📘 Further Reading\n",
        "- [Scikit-learn SVM Docs](https://scikit-learn.org/stable/modules/svm.html)\n",
        "- \"Pattern Recognition and Machine Learning\" by Christopher Bishop\n",
        "- CS229 Notes by Andrew Ng\n",
        "\n",
        "---\n",
        "\n",
        "🔜 **Next Lecture**: Kernel SVM Decision Boundaries and Introduction to SVR"
      ]
    }
  ],
  "metadata": {
    "colab": {
      "provenance": []
    }
  },
  "nbformat": 4,
  "nbformat_minor": 5
}